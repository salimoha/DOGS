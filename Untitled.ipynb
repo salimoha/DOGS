{
 "cells": [
  {
   "cell_type": "code",
   "execution_count": 1,
   "metadata": {
    "collapsed": false
   },
   "outputs": [
    {
     "ename": "SyntaxError",
     "evalue": "Missing parentheses in call to 'print' (<ipython-input-1-47c9169e718a>, line 247)",
     "output_type": "error",
     "traceback": [
      "\u001b[0;36m  File \u001b[0;32m\"<ipython-input-1-47c9169e718a>\"\u001b[0;36m, line \u001b[0;32m247\u001b[0m\n\u001b[0;31m    print H\u001b[0m\n\u001b[0m          ^\u001b[0m\n\u001b[0;31mSyntaxError\u001b[0m\u001b[0;31m:\u001b[0m Missing parentheses in call to 'print'\n"
     ]
    }
   ],
   "source": [
    "import numpy as np\n",
    "from scipy.optimize import minimize, rosen, rosen_der\n",
    "#from __future__ import print_function    # (at top of module)\n",
    "\n",
    "\n",
    "class Inter:\n",
    "    #    'Common base class for all variable'\n",
    "    \n",
    "    def __init__(self,inter_method, y0=0.):\n",
    "        self.method = inter_method\n",
    "        self.w = 0\n",
    "        self.v = 0\n",
    "        self.xi = 0\n",
    "        self.yi=0\n",
    "        self.lamda = 0\n",
    "        self.y0 = y0\n",
    "        self.Dw = 0\n",
    "        self.Dv = 0\n",
    "    \n",
    "    \n",
    "    def parameterization(self,xi, yi):\n",
    "        n = xi.shape[0]\n",
    "        m = xi.shape[1]\n",
    "        if self.method =='NPS': # 1\n",
    "            A= np.zeros(shape=(m,m))\n",
    "            for ii in range(0,m,1): # for ii =0 to m-1 with step 1; range(1,N,1)\n",
    "                for jj in range(0,m,1):\n",
    "                    A[ii,jj] = (np.dot(xi[:,ii] - xi[:,jj],xi[:,ii] - xi[:,jj]))**(3.0/2.0)\n",
    "            \n",
    "            V = np.concatenate((np.ones((1,m)), xi), axis=0)\n",
    "            A1 = np.concatenate((A, np.transpose(V)),axis=1)\n",
    "            A2 = np.concatenate((V, np.zeros(shape=(n+1,n+1) )), axis=1)\n",
    "            yi = yi[np.newaxis,:]\n",
    "            \n",
    "            print(yi.shape)\n",
    "            b = np.concatenate([np.transpose(yi), np.zeros(shape=(n+1,1))])\n",
    "            #      b = np.concatenate((np.transpose(yi), np.zeros(shape=(n+1,1) )), axis=0)\n",
    "            A = np.concatenate((A1,A2), axis=0)\n",
    "            wv = np.linalg.solve(A,b)\n",
    "            self.w = wv[:m]\n",
    "            self.v = wv[m:]\n",
    "            self.xi = xi\n",
    "        #      print(V)\n",
    "        #     7\n",
    "        if self.method == \"MAPS\" or self.method == \"MAPS2\":\n",
    "            a = np.ones(xi.shape[0],1)\n",
    "            lamda = 1;\n",
    "            for i in range (0,20):\n",
    "                [inter_par,a] = Scale_interpar()\n",
    "                lamda = lamda/2.0\n",
    "                for jj in range(yi.shape[0]):\n",
    "                    [inter_par,a]  = Scale_interpar(); #method2 %%% DO I NEED TO INCLUDE SELF INPUT????\n",
    "                     \n",
    "\n",
    "\n",
    "\n",
    "\n",
    "    \n",
    "    # inter_par{1}=inter_method;\n",
    "    # lambda = lambda/2;\n",
    "    #for jj=1:numel(yi)\n",
    "    # ygps(jj)= interpolate_val(xi(:,jj),inter_par); % HERE --->\n",
    "    # % equation 19 in MAPS\n",
    "    # deltaPx  = abs(ygps(jj)-yi(jj));\n",
    "    # DeltaFun = abs(yi(jj)-y0);\n",
    "    # % keyboard\n",
    "    # if deltaPx/DeltaFun > 0.1\n",
    "    # break;\n",
    "    # elseif jj==numel(yi)\n",
    "    #     return;\n",
    "    # end\n",
    "    # end\n",
    "    # if inter_method==8\n",
    "    # %      keyboard\n",
    "    # epsFun = yi-y0;\n",
    "    # inter_par{8}=epsFun;\n",
    "    # end\n",
    "    \n",
    "    \n",
    "\n",
    "    \n",
    "    \n",
    "    ###########################IMPORTANT ##################################################\n",
    "    def DiagonalScaleCost(self, a):\n",
    "        xi = self.xi\n",
    "        yi = self.yi\n",
    "        w = self.w\n",
    "        #         inter_par= interpolateparametarization_scaled(xi,yi,a,1, lamda)\n",
    "        w = self.w # ????????\n",
    "        cost = np.sum(w**2) # ????  Cost =sum(w.^2);\n",
    "        return cost\n",
    "    def DiagonalScaleCost_der( self, a):\n",
    "        w = self.w\n",
    "        Dw = self.Dw\n",
    "        gradCost =2*Dw*w;\n",
    "        return gradCost\n",
    "\n",
    "    ###########################IMPORTANT ##################################################\n",
    "    # Scaled\n",
    "    def Scale_interpar(self):\n",
    "        #This function is for spinterpolation and finds the scaling factor for\n",
    "        #polyharmonic spline interpolation\n",
    "        xi = self.xi\n",
    "        yi = self.yi\n",
    "        n = xi.shape[0]\n",
    "        a0 = np.ones((n,1))\n",
    "        \n",
    "        self.lamda =1\n",
    "        lb = np.zeros((n,1))\n",
    "        ub = np.ones((n,1))*n  #No upper or lower bounds\n",
    "        \n",
    "        res = minimize(self.DiagonalScaleCost, a0, method='L-BFGS-B', jac=self.DiagonalScaleCost_der, options={'gtol': 1e-6, 'disp': True},\n",
    "                      bounds=(lb,ub))\n",
    "        \n",
    "         \n",
    "        \n",
    "        return inter_par,res.x\n",
    "    \n",
    "    \n",
    "    \n",
    "    \n",
    "    #    def interpolateparametarization_scaled(self, xi1,yi1,a, inter_method,lamda,interpolate_index):\n",
    "    def parameterization_scaled(self,xi, yi, a, inter_method,lamda, interpolate_index):\n",
    "        w = self.w\n",
    "        n = xi.shape[0]\n",
    "        m = xi.shape[1]\n",
    "        if self.method =='NPS':\n",
    "            A= np.zeros(shape=(m,m))\n",
    "            \n",
    "            for ii in range(0,m,1): # for ii =0 to m-1 with step 1; range(1,N,1)\n",
    "                for jj in range(0,m,1):\n",
    "                    A[ii,jj] = (np.dot(xi[:,ii] - xi[:,jj],xi[:,ii] - xi[:,jj]))**(3.0/2.0)\n",
    "                    dA[ii,jj,:] =3/2.* (xi[:,ii] - xi[:,jj])**2 *  ((np.transpose(xi[:,ii]-xi[:,jj]))*H*(xi[:,ii] - xi[:,jj]))**(1/2.0)\n",
    "            \n",
    "            V = np.concatenate((np.ones((1,m)), xi), axis=0)\n",
    "            A = A + np.identity(m)*lamda\n",
    "            \n",
    "            A1 = np.concatenate((A, np.transpose(V)),axis=1)\n",
    "            A2 = np.concatenate((V, np.zeros(shape=(n+1,n+1) )), axis=1)\n",
    "            yi = yi[np.newaxis,:]\n",
    "            \n",
    "            \n",
    "            b = np.concatenate([np.transpose(yi), np.zeros(shape=(n+1,1))])\n",
    "            #  b = np.concatenate((np.transpose(yi), np.zeros(shape=(n+1,1) )), axis=0)\n",
    "            A = np.concatenate((A1,A2), axis=0)\n",
    "            wv = np.linalg.solve(A,b)\n",
    "            \n",
    "            # calculating the gradient\n",
    "            Dw = []; Dv=[]\n",
    "            #for kk in range(n):\n",
    "                #np.concatenate((dA[:,:,kk] np.zeros((V.T.shape))),axis=)\n",
    "                #np.concatenate(())\n",
    "                # b{kk} = -[dA(:,:,kk) zeros(size(V'));zeros(size(V)) zeros(n+1,n+1)]*wv; ???\n",
    "                # Dwv = np.linalg.solve(A, b{kk} )  # Dwv = pinv(A)* b{kk}; % solve the associated linear system\n",
    "                # Dw = [Dw; Dwv(1:N)']; ????\n",
    "                # Dv = [Dv; Dwv(N+1:end)']; ?????\n",
    "            self.Dw = Dw\n",
    "            self.Dv = Dv\n",
    "            self.a = a\n",
    "            self.w = wv[:m]\n",
    "            self.v = wv[m:]\n",
    "            self.xi = xi\n",
    "\n",
    "\n",
    "\n",
    "    def pred(self,x):\n",
    "        if self.method == \"NPS\":\n",
    "            w = self.w\n",
    "            v = self.v\n",
    "            xi = self.xi\n",
    "            \n",
    "            S = xi - x\n",
    "            #             print np.dot(v.T,np.concatenate([np.ones((1,1)),x],axis=0)) + np.dot(w.T,np.sqrt(np.diag(np.dot(S.T,S))))**3\n",
    "            return np.dot(v.T,np.concatenate([np.ones((1,1)),x],axis=0)) + np.dot(w.T,(np.sqrt(np.diag(np.dot(S.T,S)))**3))\n",
    "        \n",
    "        if self.method == \"MAPS\":\n",
    "            w = self.w\n",
    "            v = self.v\n",
    "            xi = self.xi\n",
    "            \n",
    "            S = xi - x\n",
    "            #             print np.dot(v.T,np.concatenate([np.ones((1,1)),x],axis=0)) + np.dot(w.T,np.sqrt(np.diag(np.dot(S.T,S))))**3\n",
    "            return np.dot(v.T,np.concatenate([np.ones((1,1)),x],axis=0)) + np.dot(w.T,(np.sqrt(np.diag(np.dot(S.T,S)))**3))\n",
    "\n",
    "    def grad(self, x):\n",
    "        if self.method == \"NPS\" or self.method==1:\n",
    "            w = self.w \n",
    "            v = self.v\n",
    "            n=x.shape[0]\n",
    "            xi = self.xi \n",
    "            N=xi.shape[1]\n",
    "            g = np.zeros((n))\n",
    "            for ii in range(N):\n",
    "                X = x[:,0]-xi[:,ii]\n",
    "                g = g + 3*w[ii]*X.T*np.linalg.norm(X)\n",
    "#                 print(\"--------------\")\n",
    "#                 print v[ii]\n",
    "#             print(g)\n",
    "#             print(\"--------------\")\n",
    "#             print(v[1:])\n",
    "            g=g+v[1:,0]\n",
    "\n",
    "            return g\n",
    "\n",
    "        if self.method == \"MAPS\" or self.method==7:\n",
    "\n",
    "            w = self.w \n",
    "            v = self.v\n",
    "            N=x.shape[1]\n",
    "            xi = self.xi \n",
    "            g = np.zeros((n, 1))\n",
    "            for ii in range(N):\n",
    "                X = x-xi[:,ii]\n",
    "                g = g + 3*w[ii]*X*np.linalg.norm(X)           \n",
    "            g=g+v[1:,0]\n",
    "            return g\n",
    "\n",
    "\n",
    "    def hessian(self,x):\n",
    "        n = x.shape[0]\n",
    "        if self.method ==\"NPS\" or self.method ==1:\n",
    "            w=self.w; \n",
    "            xi = self.xi;\n",
    "            N = xi.shape[1]\n",
    "            H = np.zeros((n,n))\n",
    "            for ii in range(N):\n",
    "                X = x[:,0]-xi[:,ii]\n",
    "                if np.linalg.norm(X) > 1e-5:\n",
    "                    H = H + 3*w[ii]*((X*X.T)/np.linalg.norm(X)  +  np.linalg.norm(X)*np.identity(n))\n",
    "            return H\n",
    "\n",
    "    def minfind(self,x, Ai=[], bi=[]):\n",
    "# %find the minimizer of the interpolating function starting with x\n",
    "# global n Ain bin        \n",
    "        n = x.shape[0]\n",
    "#         parameters of backtracking\n",
    "        rho=0.9\n",
    "    \n",
    "        itr =1\n",
    "        while itr < 10:\n",
    "            H = np.zeros((n,n)); g = np.zeros((n,1))\n",
    "            y = self.pred(x)\n",
    "            g = self.grad(x)\n",
    "            H = self.hessian(x)\n",
    "#             Perform the Hessian modification\n",
    "            H = modichol(H,0.01,20)\n",
    "            print H\n",
    "            H=(H+H.T)/2.0\n",
    "            \n",
    "            \n",
    "            \n",
    "            \n",
    "            itr = itr+1\n",
    "        \n",
    "        \n",
    "\n",
    "# while iter<10\n",
    "\n",
    "# % Calculate the Newton direction\n",
    "# H=zeros(n,n); g=zeros(n,1);\n",
    "# y=interpolate_val(x,inter_par);\n",
    "# g=interpolate_grad(x,inter_par);\n",
    "# H=interpolate_hessian(x,inter_par);\n",
    "# % Perform the Hessian modification\n",
    "# H=modichol(H,0.01,20);  \n",
    "# H=(H+H.')/2;\n",
    "# options=optimoptions('quadprog','Display','none');\n",
    "# p=quadprog(double(H),double(g),Ain,bin-Ain*x,[],[],[],[],zeros(n,1),options);\n",
    "\n",
    "# if norm(p)<1e-5\n",
    "#     break\n",
    "# end\n",
    "# a=1;\n",
    "# % Backtracking\n",
    "# while 1\n",
    "#     x1=x+a*p;\n",
    "#         y1=interpolate_val(x1,inter_par);\n",
    "#         if (y-y1)>0\n",
    "#         x=x1;\n",
    "#         break\n",
    "#         else\n",
    "#         a=a*rho;\n",
    "#         if norm(a*p)<1e-4\n",
    "#             break\n",
    "#         end\n",
    "#         end\n",
    "        \n",
    "# end\n",
    "# iter=iter+1;\n",
    "# end"
   ]
  },
  {
   "cell_type": "code",
   "execution_count": null,
   "metadata": {
    "collapsed": true
   },
   "outputs": [],
   "source": []
  },
  {
   "cell_type": "code",
   "execution_count": 2,
   "metadata": {
    "collapsed": false
   },
   "outputs": [
    {
     "ename": "NameError",
     "evalue": "name 'np' is not defined",
     "output_type": "error",
     "traceback": [
      "\u001b[0;31m---------------------------------------------------------------------------\u001b[0m",
      "\u001b[0;31mNameError\u001b[0m                                 Traceback (most recent call last)",
      "\u001b[0;32m<ipython-input-2-6ab7997fa2d3>\u001b[0m in \u001b[0;36m<module>\u001b[0;34m()\u001b[0m\n\u001b[1;32m      4\u001b[0m \u001b[0;31m#    return (x[0,:]-0.45)**2.0 + alpha*(x[1,:]-0.45)**2.0\u001b[0m\u001b[0;34m\u001b[0m\u001b[0;34m\u001b[0m\u001b[0m\n\u001b[1;32m      5\u001b[0m \u001b[0;34m\u001b[0m\u001b[0m\n\u001b[0;32m----> 6\u001b[0;31m \u001b[0mxi\u001b[0m \u001b[0;34m=\u001b[0m \u001b[0mnp\u001b[0m\u001b[0;34m.\u001b[0m\u001b[0marray\u001b[0m\u001b[0;34m(\u001b[0m\u001b[0;34m[\u001b[0m\u001b[0;34m[\u001b[0m\u001b[0;36m0.5000\u001b[0m \u001b[0;34m,\u001b[0m \u001b[0;36m0.8000\u001b[0m   \u001b[0;34m,\u001b[0m \u001b[0;36m0.5000\u001b[0m\u001b[0;34m,\u001b[0m    \u001b[0;36m0.2000\u001b[0m\u001b[0;34m,\u001b[0m    \u001b[0;36m0.5000\u001b[0m\u001b[0;34m]\u001b[0m\u001b[0;34m,\u001b[0m  \u001b[0;34m[\u001b[0m\u001b[0;36m0.5000\u001b[0m\u001b[0;34m,\u001b[0m    \u001b[0;36m0.5000\u001b[0m\u001b[0;34m,\u001b[0m    \u001b[0;36m0.8000\u001b[0m\u001b[0;34m,\u001b[0m    \u001b[0;36m0.5000\u001b[0m\u001b[0;34m,\u001b[0m    \u001b[0;36m0.2000\u001b[0m\u001b[0;34m]\u001b[0m\u001b[0;34m]\u001b[0m\u001b[0;34m)\u001b[0m\u001b[0;34m\u001b[0m\u001b[0m\n\u001b[0m\u001b[1;32m      7\u001b[0m \u001b[0;31m#xi=np.random.rand(2,3)\u001b[0m\u001b[0;34m\u001b[0m\u001b[0;34m\u001b[0m\u001b[0m\n\u001b[1;32m      8\u001b[0m \u001b[0mx\u001b[0m\u001b[0;34m=\u001b[0m\u001b[0mnp\u001b[0m\u001b[0;34m.\u001b[0m\u001b[0marray\u001b[0m\u001b[0;34m(\u001b[0m\u001b[0;34m[\u001b[0m\u001b[0;34m[\u001b[0m\u001b[0;36m0.5\u001b[0m\u001b[0;34m]\u001b[0m\u001b[0;34m,\u001b[0m\u001b[0;34m[\u001b[0m\u001b[0;36m0.53\u001b[0m\u001b[0;34m]\u001b[0m\u001b[0;34m]\u001b[0m\u001b[0;34m)\u001b[0m\u001b[0;34m\u001b[0m\u001b[0m\n",
      "\u001b[0;31mNameError\u001b[0m: name 'np' is not defined"
     ]
    }
   ],
   "source": [
    "def fun(x,  alpha=0.001):\n",
    "    y = np.array((x[0,:]-0.45)**2.0 + alpha*(x[1,:]-0.45)**2.0)\n",
    "    return y.T\n",
    "#    return (x[0,:]-0.45)**2.0 + alpha*(x[1,:]-0.45)**2.0\n",
    "\n",
    "xi = np.array([[0.5000 , 0.8000   , 0.5000,    0.2000,    0.5000],  [0.5000,    0.5000,    0.8000,    0.5000,    0.2000]])\n",
    "#xi=np.random.rand(2,3)\n",
    "x=np.array([[0.5],[0.53]])\n",
    "#yi=np.random.rand(1,3)\n",
    "yi=fun(xi)\n",
    "print(yi)\n",
    "print(xi)\n",
    "#yi = np.array(yi)\n",
    "print(yi.shape)\n",
    "print(xi.shape)\n",
    "inter_par = Inter(\"NPS\")\n",
    "inter_par.parameterization(xi,yi)\n",
    "inter_par.pred(x)\n",
    "inter_par.w\n",
    "# inter_par.Scale_interpar()\n",
    "H = inter_par.hessian(x)\n",
    "print(\"-------H-------\")\n",
    "print(H)\n",
    "g= inter_par.grad(x)\n",
    "print(\"-------g-------\")\n",
    "print(g)\n",
    "print(\"-------minfind-------\")\n",
    "m= inter_par.minfind(x)"
   ]
  },
  {
   "cell_type": "code",
   "execution_count": 3,
   "metadata": {
    "collapsed": false
   },
   "outputs": [
    {
     "name": "stderr",
     "output_type": "stream",
     "text": [
      "/Users/shahrouz/anaconda/lib/python3.5/site-packages/numpy/core/_methods.py:26: VisibleDeprecationWarning: using a non-integer number instead of an integer will result in an error in the future\n",
      "  return umr_maximum(a, axis, None, out, keepdims)\n"
     ]
    },
    {
     "name": "stdout",
     "output_type": "stream",
     "text": [
      "[[ 1.5756      1.4679      0.4592    ]\n",
      " [ 1.4679      8.79256422  0.7003    ]\n",
      " [ 0.4592      0.7003      0.9425    ]]\n"
     ]
    }
   ],
   "source": [
    "import numpy as np\n",
    "\n",
    "\n",
    "def modichol(A,alpha,beta):\n",
    "    n = A.shape[1] # size of A\n",
    "    L = np.identity(n)\n",
    "    #################### EXTRA ???\n",
    "    D = np.zeros((n,1))\n",
    "    c = np.zeros((n,n)) #????\n",
    "    ######################\n",
    "    D[0] = np.max(np.abs(A[0,0]),alpha)\n",
    "    c[:,0]=A[:,0]\n",
    "    L[1:n,0]=c[1:n,0]/D[0]\n",
    "    \n",
    "    for j in range(1,n-1):\n",
    "        c[j,j]=A[j,j]-(np.dot((L[j,0:j]**2).reshape(1,j), D[0:j]))[0, 0]\n",
    "        for i in range(j+1,n):\n",
    "            c[i,j]=A[i,j]-(np.dot((L[i,0:j]*L[j,0:j]).reshape(1,j), D[0:j]))[0, 0]\n",
    "        theta = np.max(c[j+1:n,j])\n",
    "        D[j]=np.array([(theta/beta)**2,np.abs(c[j,j]),alpha]).max()\n",
    "        L[j+1:n,j]=c[j+1:n,j]/D[j]\n",
    "    j=n-1;    \n",
    "    c[j,j]=A[j,j]-(np.dot((L[j,0:j]**2).reshape(1,j), D[0:j]))[0, 0]\n",
    "    D[j]=np.max(np.abs(c[j,j]),alpha) \n",
    "    return np.dot(np.dot(L, (np.diag(np.transpose(D)[0]))), L.T)\n",
    "\n",
    "A = np.array([[1.5756, 1.4679,0.4592], [1.4679, 1.5194, 0.7003], [0.4592, 0.7003,0.9425]])\n",
    "# A = np.random.rand(4,4)\n",
    "# A = A*A.T\n",
    "A1 = modichol(A,.3,0.1)\n",
    "print(A1)"
   ]
  },
  {
   "cell_type": "code",
   "execution_count": 4,
   "metadata": {
    "collapsed": false
   },
   "outputs": [
    {
     "ename": "NameError",
     "evalue": "name 'inter_par' is not defined",
     "output_type": "error",
     "traceback": [
      "\u001b[0;31m---------------------------------------------------------------------------\u001b[0m",
      "\u001b[0;31mNameError\u001b[0m                                 Traceback (most recent call last)",
      "\u001b[0;32m<ipython-input-4-199704753c57>\u001b[0m in \u001b[0;36m<module>\u001b[0;34m()\u001b[0m\n\u001b[0;32m----> 1\u001b[0;31m \u001b[0minter_par\u001b[0m\u001b[0;34m.\u001b[0m\u001b[0mw\u001b[0m\u001b[0;34m\u001b[0m\u001b[0m\n\u001b[0m",
      "\u001b[0;31mNameError\u001b[0m: name 'inter_par' is not defined"
     ]
    }
   ],
   "source": [
    "inter_par.w"
   ]
  },
  {
   "cell_type": "code",
   "execution_count": null,
   "metadata": {
    "collapsed": false
   },
   "outputs": [],
   "source": [
    "d=0.01;\n",
    "dm=0\n",
    "x1=np.copy(x); x1[dm]=x[dm]+d;\n",
    "gg = (inter_par.pred(x1)-inter_par.pred(x))/d\n",
    "# print(x1)\n",
    "# print(x)\n",
    "print(gg)"
   ]
  },
  {
   "cell_type": "code",
   "execution_count": null,
   "metadata": {
    "collapsed": false
   },
   "outputs": [],
   "source": [
    "import numpy as np\n",
    "\n",
    "def circhyp(x,N):\n",
    "\n",
    "\n",
    "# M = [sum(x.'.^2,2), x.', ones(N+1,1)]\n",
    "# a = det(M(:,2:N+2))\n",
    "# c = (-1) ^ (N+1) * det(M(:,1:N+1))\n",
    "# D = zeros(N,1)\n",
    "# for ii = 1 : 1 : N\n",
    "#     M_tmp = M;\n",
    "#     M_tmp(:,ii+1) = [];\n",
    "#     D(ii) = (-1) ^ ii * det(M_tmp);\n",
    "# end\n",
    "# xC = - D / (2 * a)\n",
    "# R2 = (sum(D.^2) - 4 * a * c) / (4 * a ^ 2)\n",
    "\n",
    "    test = np.sum(np.transpose(x)**2,axis=1)\n",
    "    test = test[:, np.newaxis]\n",
    "#     print test\n",
    "    m1 = np.concatenate(( np.matrix((x.T**2).sum(axis=1)), x))\n",
    "#     print m1.T\n",
    "#     print(np.concatenate((m1,   np.matrix(np.ones((N+1,1)))  ), axis=1))\n",
    "    M = np.concatenate(( np.transpose(m1),   np.matrix(np.ones((N+1,1)))  ), axis=1)\n",
    "#     M = np.concatenate(( m1,   np.matrix(np.ones((N+1,1)))  ), axis=1)\n",
    "    a = np.linalg.det(M[ :,1:N+2 ]  )\n",
    "#     print M\n",
    "    c = (-1.0) ** (N+1) * np.linalg.det(M[:,0:N+1])\n",
    "    D = np.zeros((N, 1))\n",
    "    for ii in range(N):\n",
    "        M_tmp = np.copy(M)\n",
    "        M_tmp = np.delete(M_tmp, ii+1, 1)\n",
    "#         print M_tmp\n",
    "        D[ii] = ((-1.0) ** (ii+1)) * np.linalg.det(M_tmp)\n",
    "        #print(np.linalg.det(M_tmp))\n",
    "#     print(D)\n",
    "    xC = -D / (2.0 * a)\n",
    "# print(xC)\n",
    "    R2 = (np.sum(D**2,axis=0) - 4 * a * c) / (4.0 * a ** 2)\n",
    "    return R2, xC\n",
    "\n",
    "# x = np.array([[0.5000 , 0.8000   , 0.5000,    0.2000,    0.5000],  [0.5000,    0.5000,    0.8000,    0.5000,    0.2000]])\n",
    "\n",
    "x = np.array([[0.6443,    0.8116,    0.3507], [0.3786,    0.5328,    0.9390]]);\n",
    "N = 2;\n",
    "print x\n",
    "[R2,xC]= circhyp(x, N)\n",
    "print(R2)\n",
    "print(xC)"
   ]
  },
  {
   "cell_type": "code",
   "execution_count": null,
   "metadata": {
    "collapsed": false
   },
   "outputs": [],
   "source": [
    "from scipy.spatial import Delaunay\n",
    "def direc_uncer(x,xi,tri):\n",
    "    e=np.array([[0.0]]);\n",
    "    n = x.shape[0]\n",
    "#     print(n)\n",
    "    for ind in range(tri.simplices.shape[0]):\n",
    "        [R2,xC] = circhyp(xi[:,tri.simplices[ind,:]],n)\n",
    "        e = np.array([e,(R2- np.dot(np.transpose((x-xC)), x-xC)) ]).max()\n",
    "#         print \"-------!!!2!!---\"\n",
    "#         print e\n",
    "    return e\n",
    "\n",
    "xi = np.array([[0.5000 , 0.8000   , 0.5000,    0.2000,    0.5000],  [0.5000,    0.5000,    0.8000,    0.5000,    0.2000]])\n",
    "\n",
    "# x = np.array([[0.6443,    0.8116,    0.3507], [0.3786,    0.5328,    0.9390]]);\n",
    "N = 2;\n",
    "\n",
    "# [R2,xC] = circhyp(xi, N)\n",
    "tri = Delaunay(xi.T)\n",
    "xx = np.array([[0.4], [0.53]]);\n",
    "e = direc_uncer(xx,xi,tri)\n",
    "print \"-------!!!e global !!---\"\n",
    "print e"
   ]
  },
  {
   "cell_type": "code",
   "execution_count": null,
   "metadata": {
    "collapsed": false
   },
   "outputs": [],
   "source": [
    "def mindis(x,xi):\n",
    "# function [y,x1,index] = mindistance(x,xi)\n",
    "# % calculates the minimum distance from all the existing points\n",
    "# % xi all the previous points\n",
    "# % x the new point\n",
    "    y=float('inf')\n",
    "    N=xi.shape[1]\n",
    "    for i in range(N):\n",
    "        y1 = np.linalg.norm(x[:,0]-xi[:,i])\n",
    "        if y1<y:\n",
    "            y=np.copy(y1)\n",
    "            x1 = np.copy(xi[:,i])\n",
    "            index=np.copy(i)\n",
    "    return y,index,x1\n",
    "\n",
    "\n",
    "xi = np.array([[0.5000 , 0.8000   , 0.5000,    0.2000,    0.5000],  [0.5000,    0.5000,    0.8000,    0.5000,    0.2000]])\n",
    "xx = np.array([[0.5], [0.53]]);\n",
    "[y,index,x1] = mindis(xx,xi)\n",
    "print y\n",
    "print index\n",
    "print x1"
   ]
  },
  {
   "cell_type": "code",
   "execution_count": null,
   "metadata": {
    "collapsed": false
   },
   "outputs": [],
   "source": [
    "mindis(xx,xi)"
   ]
  },
  {
   "cell_type": "code",
   "execution_count": null,
   "metadata": {
    "collapsed": false
   },
   "outputs": [],
   "source": [
    "fun = lambda x: inter_par.pred(x)"
   ]
  },
  {
   "cell_type": "code",
   "execution_count": null,
   "metadata": {
    "collapsed": false
   },
   "outputs": [],
   "source": [
    "from scipy.optimize import minimize\n",
    "x0=np.copy(xx)\n",
    "# fun(x0)\n",
    "# inter_par.pred(x0)\n",
    "# res = minimize(fun, x0, method='Nelder-Mead', tol=1e-6)\n",
    "# res.x\n",
    "res = minimize(fun, x0, method='BFGS', jac=rosen_der,\n",
    "               options={'gtol': 1e-6, 'disp': True})"
   ]
  },
  {
   "cell_type": "code",
   "execution_count": null,
   "metadata": {
    "collapsed": false
   },
   "outputs": [],
   "source": [
    "def interpolate_val(x,inter_par):\n",
    "        if inter_par.method == \"NPS\":\n",
    "            w = inter_par.w\n",
    "            v = inter_par.v\n",
    "            xi = inter_par.xi\n",
    "            \n",
    "            S = xi - x\n",
    "            #             print np.dot(v.T,np.concatenate([np.ones((1,1)),x],axis=0)) + np.dot(w.T,np.sqrt(np.diag(np.dot(S.T,S))))**3\n",
    "            return np.dot(v.T,np.concatenate([np.ones((1,1)),x],axis=0)) + np.dot(w.T,(np.sqrt(np.diag(np.dot(S.T,S)))**3))"
   ]
  },
  {
   "cell_type": "code",
   "execution_count": null,
   "metadata": {
    "collapsed": false
   },
   "outputs": [],
   "source": [
    "interpolate_val(x0,inter_par)"
   ]
  },
  {
   "cell_type": "code",
   "execution_count": null,
   "metadata": {
    "collapsed": false
   },
   "outputs": [],
   "source": [
    "fun = lambda x: interpolate_val(x,inter_par)"
   ]
  },
  {
   "cell_type": "code",
   "execution_count": null,
   "metadata": {
    "collapsed": false
   },
   "outputs": [],
   "source": [
    "from scipy.optimize import minimize\n",
    "x0=np.copy(xx)\n",
    "# fun(x0)\n",
    "# inter_par.pred(x0)\n",
    "res = minimize(fun, x0, method='Nelder-Mead', tol=1e-6)"
   ]
  },
  {
   "cell_type": "code",
   "execution_count": 5,
   "metadata": {
    "collapsed": false
   },
   "outputs": [
    {
     "ename": "NameError",
     "evalue": "name 'g' is not defined",
     "output_type": "error",
     "traceback": [
      "\u001b[0;31m---------------------------------------------------------------------------\u001b[0m",
      "\u001b[0;31mNameError\u001b[0m                                 Traceback (most recent call last)",
      "\u001b[0;32m<ipython-input-5-efb645c3bb08>\u001b[0m in \u001b[0;36m<module>\u001b[0;34m()\u001b[0m\n\u001b[0;32m----> 1\u001b[0;31m \u001b[0mg\u001b[0m\u001b[0;34m=\u001b[0m\u001b[0mg\u001b[0m\u001b[0;34m+\u001b[0m\u001b[0mX\u001b[0m\u001b[0;34m.\u001b[0m\u001b[0mT\u001b[0m\u001b[0;34m*\u001b[0m\u001b[0mnp\u001b[0m\u001b[0;34m.\u001b[0m\u001b[0mlinalg\u001b[0m\u001b[0;34m.\u001b[0m\u001b[0mnorm\u001b[0m\u001b[0;34m(\u001b[0m\u001b[0mX\u001b[0m\u001b[0;34m)\u001b[0m\u001b[0;34m\u001b[0m\u001b[0m\n\u001b[0m",
      "\u001b[0;31mNameError\u001b[0m: name 'g' is not defined"
     ]
    }
   ],
   "source": [
    "g=g+X.T*np.linalg.norm(X)"
   ]
  },
  {
   "cell_type": "code",
   "execution_count": 75,
   "metadata": {
    "collapsed": false
   },
   "outputs": [
    {
     "data": {
      "text/plain": [
       "array([-0.09044888,  0.00904489])"
      ]
     },
     "execution_count": 75,
     "metadata": {},
     "output_type": "execute_result"
    }
   ],
   "source": [
    "g"
   ]
  },
  {
   "cell_type": "code",
   "execution_count": 13,
   "metadata": {
    "collapsed": false
   },
   "outputs": [],
   "source": [
    "import numpy as np\n",
    "\n",
    "np.set_printoptions(linewidth=200, precision=5, suppress=True)\n",
    "import pandas as pd;\n",
    "\n",
    "pd.options.display.max_rows = 20;\n",
    "pd.options.display.expand_frame_repr = False\n",
    "import pylab as plt\n",
    "\n",
    "def regressionparametarization(xi,yi, sigma, inter_method ):\n",
    "#      polyharmonic spline regression function\n",
    "\n",
    "    n = xi.shape[0]\n",
    "    m = xi.shape[1]\n",
    "    if inter_par.method == 'NPS':\n",
    "        A = np.zeros(shape=(m, m))\n",
    "        for ii in range(0, m, 1):  # for ii =0 to m-1 with step 1; range(1,N,1)\n",
    "            for jj in range(0, m, 1):\n",
    "                A[ii, jj] = (np.dot(xi[:, ii] - xi[:, jj], xi[:, ii] - xi[:, jj])) ** (3.0 / 2.0)\n",
    "\n",
    "        V = np.concatenate((np.ones((1, m)), xi), axis=0)\n",
    "        \n",
    "#         w1= diag(1./sigma)*V'\\(yi./sigma).';\n",
    "#         b=mean(((V'*w1-yi.')./sigma').^2);\n",
    "        A1 = np.concatenate((A, np.transpose(V)), axis=1)\n",
    "        A2 = np.concatenate((V, np.zeros(shape=(n + 1, n + 1))), axis=1)\n",
    "        yi = yi[np.newaxis, :]\n",
    "        # print(yi.shape)\n",
    "        b = np.concatenate([np.transpose(yi), np.zeros(shape=(n + 1, 1))])\n",
    "        #      b = np.concatenate((np.transpose(yi), np.zeros(shape=(n+1,1) )), axis=0)\n",
    "        A = np.concatenate((A1, A2), axis=0)\n",
    "        wv = np.linalg.solve(A, b)\n",
    "        inter_par.w = wv[:m]\n",
    "        inter_par.v = wv[m:]\n",
    "        inter_par.xi = xi\n",
    "        return inter_par\n",
    "\n",
    "    return inter_par, yp\n",
    "\n",
    "\n",
    "def smoothing_polyharmonic(rho, A, V, sigma, yi, n, N):\n",
    "# This function smooths the surrgate model \n",
    "    A01 = np.concatenate((A+ rho * np.diag(sigma ** 2), np.transpose(V)), axis=1)\n",
    "    A02 = np.concatenate((V, np.zeros(shape=(n + 1, n + 1))), axis=1)\n",
    "    A1 = np.concatenate((A01, A02), axis=0)\n",
    "    # b1 = np.concatinate(yi.T, np.zeros((n+1,1)))\n",
    "    yi = yi[np.newaxis, :]\n",
    "    # print(yi.shape)\n",
    "    b1 = np.concatenate([np.transpose(yi), np.zeros(shape=(n + 1, 1))])\n",
    "    #      b = np.concatenate((np.transpose(yi), np.zeros(shape=(n+1,1) )), axis=0)\n",
    "    wv = np.linalg.solve(A1, b1)\n",
    "\n",
    "    tmp = np.multiply(wv[:N],(sigma.T)**2)\n",
    "    b = np.mean(tmp* rho** 2)-1\n",
    "\n",
    "#     # could have lots of errors\n",
    "    bdwv = np.concatenate([np.transpose(tmp), np.zeros(shape=(n + 1, 1))])\n",
    "    Dwv = np.linalg.solve(-A1, bdwv)\n",
    "    tmp1 = wv[:N]**2 * rho + rho**2 * np.transpose( np.multiply(np.multiply(wv[:N],Dwv[:N]), sigma**2))\n",
    "    db = 2*np.mean(tmp1)\n",
    "\n",
    "    #\n",
    "    return b, db, wv\n",
    "\n"
   ]
  },
  {
   "cell_type": "code",
   "execution_count": null,
   "metadata": {
    "collapsed": true
   },
   "outputs": [],
   "source": []
  }
 ],
 "metadata": {
  "anaconda-cloud": {},
  "kernelspec": {
   "display_name": "Python [conda root]",
   "language": "python",
   "name": "conda-root-py"
  },
  "language_info": {
   "codemirror_mode": {
    "name": "ipython",
    "version": 3
   },
   "file_extension": ".py",
   "mimetype": "text/x-python",
   "name": "python",
   "nbconvert_exporter": "python",
   "pygments_lexer": "ipython3",
   "version": "3.5.2"
  }
 },
 "nbformat": 4,
 "nbformat_minor": 0
}
